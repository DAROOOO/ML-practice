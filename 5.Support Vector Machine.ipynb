{
 "cells": [
  {
   "cell_type": "code",
   "execution_count": 1,
   "metadata": {},
   "outputs": [],
   "source": [
    "import numpy as np\n",
    "import matplotlib.pyplot as plt\n",
    "import pandas as pd\n",
    "from sklearn import datasets\n",
    "from sklearn.preprocessing import StandardScaler\n",
    "from sklearn.svm import SVC\n",
    "from sklearn.model_selection import train_test_split"
   ]
  },
  {
   "cell_type": "markdown",
   "metadata": {},
   "source": [
    "## SVM\n",
    "### iris 데이터셋 선택, 분류문제 해결"
   ]
  },
  {
   "cell_type": "code",
   "execution_count": 2,
   "metadata": {},
   "outputs": [],
   "source": [
    "iris = datasets.load_iris()\n",
    "iris_x = iris.data\n",
    "iris_y = iris.target\n",
    "iris_xtrain, iris_xtest, iris_ytrain, iris_ytest = train_test_split(\n",
    "    iris_x, iris_y, random_state=0)"
   ]
  },
  {
   "cell_type": "markdown",
   "metadata": {},
   "source": [
    "**하이퍼 파라미터 : Kernal, C, gamma**\n",
    "\n",
    "**Kernal 종류 : rbf, sigmoid, poly**\n",
    "\n",
    "**C, gamma는 높아질수록 오버피팅할 가능성 존재**"
   ]
  },
  {
   "cell_type": "code",
   "execution_count": 3,
   "metadata": {},
   "outputs": [
    {
     "name": "stdout",
     "output_type": "stream",
     "text": [
      "모델 정확도 : 0.9736842105263158\n"
     ]
    }
   ],
   "source": [
    "# C나 gamma 값을 증가시켜 좀 더 복잡한 모델을 만들 수 있음\n",
    "SVM_model = SVC(kernel='rbf', C=10, gamma=0.1).fit(iris_xtrain, iris_ytrain)\n",
    "print(f'모델 정확도 : {SVM_model.score(iris_xtest,iris_ytest)}')"
   ]
  },
  {
   "cell_type": "markdown",
   "metadata": {},
   "source": [
    "### 이상치 확인하여, 데이터를 표준화 해, 정확도 올리기 시도."
   ]
  },
  {
   "cell_type": "code",
   "execution_count": 4,
   "metadata": {},
   "outputs": [
    {
     "data": {
      "image/png": "[encoded data removed]",
      "text/plain": [
       "<Figure size 720x504 with 1 Axes>"
      ]
     },
     "metadata": {
      "needs_background": "light"
     },
     "output_type": "display_data"
    }
   ],
   "source": [
    "# 이상치 확인\n",
    "plt.figure(figsize=(10,7))\n",
    "plt.boxplot(iris_x)\n",
    "plt.xlabel(\"Feature list\")\n",
    "plt.ylabel(\"Feature size\")\n",
    "plt.show()"
   ]
  },
  {
   "cell_type": "code",
   "execution_count": 5,
   "metadata": {},
   "outputs": [
    {
     "data": {
      "image/png": "[encoded data removed]",
      "text/plain": [
       "<Figure size 720x504 with 1 Axes>"
      ]
     },
     "metadata": {
      "needs_background": "light"
     },
     "output_type": "display_data"
    }
   ],
   "source": [
    "# 데이터 표준화 하기\n",
    "sc = StandardScaler()\n",
    "sc.fit(iris_xtrain)\n",
    "iris_xtrain_scale = sc.transform(iris_xtrain)\n",
    "iris_xtest_scale = sc.transform(iris_xtest)\n",
    "# 표준화한 데이터 확인\n",
    "plt.figure(figsize=(10,7))\n",
    "plt.boxplot(iris_xtrain)\n",
    "plt.xlabel(\"Feature list\")\n",
    "plt.ylabel(\"Feature size\")\n",
    "plt.show()"
   ]
  },
  {
   "cell_type": "code",
   "execution_count": 6,
   "metadata": {},
   "outputs": [
    {
     "name": "stdout",
     "output_type": "stream",
     "text": [
      "모델 정확도 : 0.9736842105263158\n"
     ]
    }
   ],
   "source": [
    "SVM_model = SVC(kernel='rbf', C=10, gamma=0.1).fit(iris_xtrain_scale, iris_ytrain)\n",
    "print(f'모델 정확도 : {SVM_model.score(iris_xtest_scale, iris_ytest)}')"
   ]
  }
 ],
 "metadata": {
  "kernelspec": {
   "display_name": "Python 3",
   "language": "python",
   "name": "python3"
  },
  "language_info": {
   "codemirror_mode": {
    "name": "ipython",
    "version": 3
   },
   "file_extension": ".py",
   "mimetype": "text/x-python",
   "name": "python",
   "nbconvert_exporter": "python",
   "pygments_lexer": "ipython3",
   "version": "3.7.4"
  }
 },
 "nbformat": 4,
 "nbformat_minor": 2
}
